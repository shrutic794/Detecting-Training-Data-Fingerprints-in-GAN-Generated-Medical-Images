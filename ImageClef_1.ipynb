{
 "cells": [
  {
   "cell_type": "code",
   "execution_count": 6,
   "id": "fd46233f-cd6b-4c39-83f7-0154f4f66730",
   "metadata": {},
   "outputs": [
    {
     "name": "stdout",
     "output_type": "stream",
     "text": [
      "All images processed successfully!\n"
     ]
    }
   ],
   "source": [
    "from PIL import Image\n",
    "import os\n",
    "\n",
    "base_path = r\"C:\\Users\\ram_k\\Downloads\\GAN25_Detect_Training_Data_Usage_tr\\ImageCLEF25_GAN_Detect_Training_Data_Usage_training-dataset\"\n",
    "image_dirs = [\"generated\", \"real_used\", \"real_not_used\"]  # List of folders\n",
    "\n",
    "for img_dir in image_dirs:\n",
    "    img_folder = os.path.join(base_path, img_dir)\n",
    "    \n",
    "    for img_name in os.listdir(img_folder):\n",
    "        img_path = os.path.join(img_folder, img_name)\n",
    "        \n",
    "        # Open the image and convert it if necessary\n",
    "        with Image.open(img_path) as img:\n",
    "            if img.mode == \"P\":  # Convert palette images to RGBA\n",
    "                img = img.convert(\"RGBA\")\n",
    "            img.load()  # Ensure it's fully loaded\n",
    "\n",
    "print(\"All images processed successfully!\")\n"
   ]
  },
  {
   "cell_type": "code",
   "execution_count": 8,
   "id": "046ba31e-b7b3-4367-b4b1-402244e3cf3c",
   "metadata": {},
   "outputs": [
    {
     "name": "stdout",
     "output_type": "stream",
     "text": [
      "Using device: cpu\n",
      "Extracting features from real_used images...\n"
     ]
    },
    {
     "name": "stderr",
     "output_type": "stream",
     "text": [
      "Processing C:\\Users\\ram_k\\Downloads\\GAN25_Detect_Training_Data_Usage_tr\\ImageCLEF25_GAN_Detect_Training_Data_Usage_trai\n"
     ]
    },
    {
     "name": "stdout",
     "output_type": "stream",
     "text": [
      "Extracting features from real_not_used images...\n"
     ]
    },
    {
     "name": "stderr",
     "output_type": "stream",
     "text": [
      "Processing C:\\Users\\ram_k\\Downloads\\GAN25_Detect_Training_Data_Usage_tr\\ImageCLEF25_GAN_Detect_Training_Data_Usage_trai\n"
     ]
    },
    {
     "name": "stdout",
     "output_type": "stream",
     "text": [
      "Comparing generated images with real_used and real_not_used images...\n"
     ]
    },
    {
     "name": "stderr",
     "output_type": "stream",
     "text": [
      "100%|██████████████████████████████████████████████████████████████████████████████| 5000/5000 [35:43<00:00,  2.33it/s]"
     ]
    },
    {
     "name": "stdout",
     "output_type": "stream",
     "text": [
      "✅ Detection Completed. Results saved to 'training_data_usage_results.csv'\n"
     ]
    },
    {
     "name": "stderr",
     "output_type": "stream",
     "text": [
      "\n"
     ]
    }
   ],
   "source": [
    "import os\n",
    "import numpy as np\n",
    "import torch\n",
    "import torch.nn as nn\n",
    "import torchvision.transforms as transforms\n",
    "from torchvision import models\n",
    "from PIL import Image\n",
    "from sklearn.metrics.pairwise import cosine_similarity\n",
    "from tqdm import tqdm\n",
    "import pandas as pd\n",
    "\n",
    "# Set device (GPU if available)\n",
    "device = torch.device(\"cuda\" if torch.cuda.is_available() else \"cpu\")\n",
    "print(f\"Using device: {device}\")\n",
    "\n",
    "# Load pre-trained ResNet50 model for feature extraction\n",
    "model = models.resnet50(weights=models.ResNet50_Weights.IMAGENET1K_V1)\n",
    "model = nn.Sequential(*list(model.children())[:-1])  # Remove classification layer\n",
    "model.to(device).eval()\n",
    "\n",
    "# Image transformations\n",
    "transform = transforms.Compose([\n",
    "    transforms.Resize((224, 224)),\n",
    "    transforms.ToTensor(),\n",
    "    transforms.Normalize(mean=[0.485, 0.456, 0.406], std=[0.229, 0.224, 0.225])\n",
    "])\n",
    "\n",
    "# Function to extract deep features from images\n",
    "def extract_features(image_path):\n",
    "    image = Image.open(image_path).convert('RGBA')  # Convert to RGBA to avoid transparency issues\n",
    "    image = image.convert('RGB')  # Remove alpha channel safely\n",
    "    image = transform(image).unsqueeze(0).to(device)\n",
    "    with torch.no_grad():\n",
    "        features = model(image)\n",
    "    return features.squeeze().cpu().numpy().flatten()\n",
    "\n",
    "# Define dataset paths\n",
    "base_path = r\"C:\\Users\\ram_k\\Downloads\\GAN25_Detect_Training_Data_Usage_tr\\ImageCLEF25_GAN_Detect_Training_Data_Usage_training-dataset\"\n",
    "\n",
    "real_used_path = os.path.join(base_path, \"real_used\")\n",
    "real_not_used_path = os.path.join(base_path, \"real_not_used\")\n",
    "generated_path = os.path.join(base_path, \"generated\")\n",
    "\n",
    "# Check if dataset exists\n",
    "if not os.path.exists(base_path):\n",
    "    raise FileNotFoundError(f\"Base directory does not exist: {base_path}\")\n",
    "\n",
    "# Ensure subdirectories exist\n",
    "for path in [real_used_path, real_not_used_path, generated_path]:\n",
    "    if not os.path.exists(path):\n",
    "        raise FileNotFoundError(f\"Missing directory: {path}\")\n",
    "\n",
    "# Function to process image folder and extract features\n",
    "def process_images(folder_path):\n",
    "    features_dict = {}\n",
    "    images = os.listdir(folder_path)\n",
    "    for img_name in tqdm(images, desc=f\"Processing {folder_path}\"):\n",
    "        img_path = os.path.join(folder_path, img_name)\n",
    "        try:\n",
    "            features_dict[img_name] = extract_features(img_path)\n",
    "        except Exception as e:\n",
    "            print(f\"Error processing {img_name}: {e}\")\n",
    "    return features_dict\n",
    "\n",
    "# Extract features for real images\n",
    "print(\"Extracting features from real_used images...\")\n",
    "real_used_features = process_images(real_used_path)\n",
    "\n",
    "print(\"Extracting features from real_not_used images...\")\n",
    "real_not_used_features = process_images(real_not_used_path)\n",
    "\n",
    "# Compare synthetic images with real images\n",
    "results = []\n",
    "\n",
    "print(\"Comparing generated images with real_used and real_not_used images...\")\n",
    "for synth_img in tqdm(os.listdir(generated_path)):\n",
    "    synth_path = os.path.join(generated_path, synth_img)\n",
    "    try:\n",
    "        synth_features = extract_features(synth_path)\n",
    "\n",
    "        # Compute similarity with real_used images\n",
    "        used_similarities = [cosine_similarity([synth_features], [feat])[0][0] for feat in real_used_features.values()]\n",
    "        \n",
    "        # Compute similarity with real_not_used images\n",
    "        not_used_similarities = [cosine_similarity([synth_features], [feat])[0][0] for feat in real_not_used_features.values()]\n",
    "\n",
    "        # Handle empty lists safely\n",
    "        max_used_similarity = max(used_similarities) if used_similarities else 0\n",
    "        max_not_used_similarity = max(not_used_similarities) if not_used_similarities else 0\n",
    "\n",
    "        # Dynamically determine threshold using mean + std deviation\n",
    "        similarity_values = used_similarities + not_used_similarities\n",
    "        threshold = np.mean(similarity_values) + 0.5 * np.std(similarity_values) if similarity_values else 0.9\n",
    "\n",
    "        # Label as \"used\" (1) if similarity to used images is significantly higher\n",
    "        is_used = int(max_used_similarity > max_not_used_similarity and max_used_similarity > threshold)\n",
    "        \n",
    "        results.append([synth_img, max_used_similarity, max_not_used_similarity, threshold, is_used])\n",
    "    except Exception as e:\n",
    "        print(f\"Skipping {synth_img} due to error: {e}\")\n",
    "\n",
    "# Save results to CSV\n",
    "df = pd.DataFrame(results, columns=['Generated Image', 'Max Used Similarity', 'Max Not Used Similarity', 'Threshold', 'Used in Training'])\n",
    "df.to_csv(\"training_data_usage_results.csv\", index=False)\n",
    "\n",
    "print(\"✅ Detection Completed. Results saved to 'training_data_usage_results.csv'\")\n"
   ]
  },
  {
   "cell_type": "code",
   "execution_count": 2,
   "id": "9e70fc79-d0cc-4924-a03c-7ce3870f7bca",
   "metadata": {},
   "outputs": [
    {
     "name": "stdout",
     "output_type": "stream",
     "text": [
      "Collecting torch"
     ]
    },
    {
     "name": "stderr",
     "output_type": "stream",
     "text": [
      "  WARNING: The script isympy.exe is installed in 'C:\\Users\\ram_k\\AppData\\Local\\Packages\\PythonSoftwareFoundation.Python.3.11_qbz5n2kfra8p0\\LocalCache\\local-packages\\Python311\\Scripts' which is not on PATH.\n",
      "  Consider adding this directory to PATH or, if you prefer to suppress this warning, use --no-warn-script-location.\n",
      "  WARNING: The scripts torchfrtrace.exe and torchrun.exe are installed in 'C:\\Users\\ram_k\\AppData\\Local\\Packages\\PythonSoftwareFoundation.Python.3.11_qbz5n2kfra8p0\\LocalCache\\local-packages\\Python311\\Scripts' which is not on PATH.\n",
      "  Consider adding this directory to PATH or, if you prefer to suppress this warning, use --no-warn-script-location.\n",
      "\n",
      "[notice] A new release of pip is available: 24.3.1 -> 25.0.1\n",
      "[notice] To update, run: C:\\Users\\ram_k\\AppData\\Local\\Microsoft\\WindowsApps\\PythonSoftwareFoundation.Python.3.11_qbz5n2kfra8p0\\python.exe -m pip install --upgrade pip\n"
     ]
    },
    {
     "name": "stdout",
     "output_type": "stream",
     "text": [
      "\n",
      "  Downloading torch-2.6.0-cp311-cp311-win_amd64.whl.metadata (28 kB)\n",
      "Collecting torchvision\n",
      "  Downloading torchvision-0.21.0-cp311-cp311-win_amd64.whl.metadata (6.3 kB)\n",
      "Collecting torchaudio\n",
      "  Downloading torchaudio-2.6.0-cp311-cp311-win_amd64.whl.metadata (6.7 kB)\n",
      "Requirement already satisfied: filelock in c:\\users\\ram_k\\appdata\\local\\packages\\pythonsoftwarefoundation.python.3.11_qbz5n2kfra8p0\\localcache\\local-packages\\python311\\site-packages (from torch) (3.16.1)\n",
      "Requirement already satisfied: typing-extensions>=4.10.0 in c:\\users\\ram_k\\appdata\\local\\packages\\pythonsoftwarefoundation.python.3.11_qbz5n2kfra8p0\\localcache\\local-packages\\python311\\site-packages (from torch) (4.12.2)\n",
      "Requirement already satisfied: networkx in c:\\users\\ram_k\\appdata\\local\\packages\\pythonsoftwarefoundation.python.3.11_qbz5n2kfra8p0\\localcache\\local-packages\\python311\\site-packages (from torch) (3.4.2)\n",
      "Requirement already satisfied: jinja2 in c:\\users\\ram_k\\appdata\\local\\packages\\pythonsoftwarefoundation.python.3.11_qbz5n2kfra8p0\\localcache\\local-packages\\python311\\site-packages (from torch) (3.1.4)\n",
      "Requirement already satisfied: fsspec in c:\\users\\ram_k\\appdata\\local\\packages\\pythonsoftwarefoundation.python.3.11_qbz5n2kfra8p0\\localcache\\local-packages\\python311\\site-packages (from torch) (2024.10.0)\n",
      "Collecting sympy==1.13.1 (from torch)\n",
      "  Downloading sympy-1.13.1-py3-none-any.whl.metadata (12 kB)\n",
      "Collecting mpmath<1.4,>=1.1.0 (from sympy==1.13.1->torch)\n",
      "  Downloading mpmath-1.3.0-py3-none-any.whl.metadata (8.6 kB)\n",
      "Requirement already satisfied: numpy in c:\\users\\ram_k\\appdata\\local\\packages\\pythonsoftwarefoundation.python.3.11_qbz5n2kfra8p0\\localcache\\local-packages\\python311\\site-packages (from torchvision) (1.26.4)\n",
      "Requirement already satisfied: pillow!=8.3.*,>=5.3.0 in c:\\users\\ram_k\\appdata\\local\\packages\\pythonsoftwarefoundation.python.3.11_qbz5n2kfra8p0\\localcache\\local-packages\\python311\\site-packages (from torchvision) (10.4.0)\n",
      "Requirement already satisfied: MarkupSafe>=2.0 in c:\\users\\ram_k\\appdata\\local\\packages\\pythonsoftwarefoundation.python.3.11_qbz5n2kfra8p0\\localcache\\local-packages\\python311\\site-packages (from jinja2->torch) (3.0.1)\n",
      "Downloading torch-2.6.0-cp311-cp311-win_amd64.whl (204.2 MB)\n",
      "   ---------------------------------------- 0.0/204.2 MB ? eta -:--:--\n",
      "    --------------------------------------- 4.7/204.2 MB 25.9 MB/s eta 0:00:08\n",
      "   -- ------------------------------------- 10.5/204.2 MB 25.1 MB/s eta 0:00:08\n",
      "   -- ------------------------------------- 14.7/204.2 MB 23.6 MB/s eta 0:00:09\n",
      "   --- ------------------------------------ 16.5/204.2 MB 20.4 MB/s eta 0:00:10\n",
      "   --- ------------------------------------ 17.3/204.2 MB 16.8 MB/s eta 0:00:12\n",
      "   --- ------------------------------------ 18.6/204.2 MB 14.5 MB/s eta 0:00:13\n",
      "   --- ------------------------------------ 20.2/204.2 MB 13.6 MB/s eta 0:00:14\n",
      "   ---- ----------------------------------- 22.5/204.2 MB 13.2 MB/s eta 0:00:14\n",
      "   ----- ---------------------------------- 25.7/204.2 MB 13.3 MB/s eta 0:00:14\n",
      "   ----- ---------------------------------- 28.8/204.2 MB 13.5 MB/s eta 0:00:13\n",
      "   ------ --------------------------------- 32.0/204.2 MB 13.6 MB/s eta 0:00:13\n",
      "   ------ --------------------------------- 35.4/204.2 MB 13.8 MB/s eta 0:00:13\n",
      "   ------- -------------------------------- 38.3/204.2 MB 13.7 MB/s eta 0:00:13\n",
      "   ------- -------------------------------- 40.6/204.2 MB 13.5 MB/s eta 0:00:13\n",
      "   -------- ------------------------------- 42.2/204.2 MB 13.2 MB/s eta 0:00:13\n",
      "   -------- ------------------------------- 44.0/204.2 MB 12.8 MB/s eta 0:00:13\n",
      "   --------- ------------------------------ 46.4/204.2 MB 12.7 MB/s eta 0:00:13\n",
      "   --------- ------------------------------ 49.5/204.2 MB 12.9 MB/s eta 0:00:13\n",
      "   ---------- ----------------------------- 52.7/204.2 MB 13.0 MB/s eta 0:00:12\n",
      "   ----------- ---------------------------- 56.4/204.2 MB 13.2 MB/s eta 0:00:12\n",
      "   ----------- ---------------------------- 59.2/204.2 MB 13.2 MB/s eta 0:00:11\n",
      "   ----------- ---------------------------- 61.1/204.2 MB 13.0 MB/s eta 0:00:12\n",
      "   ------------ --------------------------- 63.2/204.2 MB 12.9 MB/s eta 0:00:11\n",
      "   ------------ --------------------------- 66.1/204.2 MB 12.9 MB/s eta 0:00:11\n",
      "   ------------- -------------------------- 69.2/204.2 MB 12.9 MB/s eta 0:00:11\n",
      "   -------------- ------------------------- 72.6/204.2 MB 13.0 MB/s eta 0:00:11\n",
      "   -------------- ------------------------- 74.7/204.2 MB 13.0 MB/s eta 0:00:10\n",
      "   --------------- ------------------------ 77.1/204.2 MB 12.9 MB/s eta 0:00:10\n",
      "   --------------- ------------------------ 80.0/204.2 MB 12.9 MB/s eta 0:00:10\n",
      "   ---------------- ----------------------- 82.1/204.2 MB 12.8 MB/s eta 0:00:10\n",
      "   ---------------- ----------------------- 84.4/204.2 MB 12.7 MB/s eta 0:00:10\n",
      "   ----------------- ---------------------- 87.6/204.2 MB 12.8 MB/s eta 0:00:10\n",
      "   ----------------- ---------------------- 90.7/204.2 MB 12.9 MB/s eta 0:00:09\n",
      "   ------------------ --------------------- 93.6/204.2 MB 12.9 MB/s eta 0:00:09\n",
      "   ------------------ --------------------- 94.9/204.2 MB 12.7 MB/s eta 0:00:09\n",
      "   ------------------- -------------------- 97.3/204.2 MB 12.6 MB/s eta 0:00:09\n",
      "   ------------------- -------------------- 99.6/204.2 MB 12.6 MB/s eta 0:00:09\n",
      "   ------------------- ------------------- 102.0/204.2 MB 12.6 MB/s eta 0:00:09\n",
      "   -------------------- ------------------ 104.9/204.2 MB 12.6 MB/s eta 0:00:08\n",
      "   -------------------- ------------------ 108.5/204.2 MB 12.7 MB/s eta 0:00:08\n",
      "   --------------------- ----------------- 111.1/204.2 MB 12.7 MB/s eta 0:00:08\n",
      "   --------------------- ----------------- 112.7/204.2 MB 12.6 MB/s eta 0:00:08\n",
      "   --------------------- ----------------- 114.6/204.2 MB 12.5 MB/s eta 0:00:08\n",
      "   ---------------------- ---------------- 117.2/204.2 MB 12.4 MB/s eta 0:00:07\n",
      "   ---------------------- ---------------- 120.1/204.2 MB 12.5 MB/s eta 0:00:07\n",
      "   ----------------------- --------------- 122.9/204.2 MB 12.5 MB/s eta 0:00:07\n",
      "   ------------------------ -------------- 126.6/204.2 MB 12.6 MB/s eta 0:00:07\n",
      "   ------------------------ -------------- 129.0/204.2 MB 12.6 MB/s eta 0:00:06\n",
      "   ------------------------- ------------- 131.9/204.2 MB 12.6 MB/s eta 0:00:06\n",
      "   ------------------------- ------------- 134.7/204.2 MB 12.6 MB/s eta 0:00:06\n",
      "   -------------------------- ------------ 136.6/204.2 MB 12.6 MB/s eta 0:00:06\n",
      "   -------------------------- ------------ 138.9/204.2 MB 12.5 MB/s eta 0:00:06\n",
      "   --------------------------- ----------- 141.6/204.2 MB 12.5 MB/s eta 0:00:06\n",
      "   --------------------------- ----------- 144.2/204.2 MB 12.5 MB/s eta 0:00:05\n",
      "   ---------------------------- ---------- 147.8/204.2 MB 12.6 MB/s eta 0:00:05\n",
      "   ---------------------------- ---------- 150.7/204.2 MB 12.6 MB/s eta 0:00:05\n",
      "   ----------------------------- --------- 153.1/204.2 MB 12.6 MB/s eta 0:00:05\n",
      "   ----------------------------- --------- 155.2/204.2 MB 12.5 MB/s eta 0:00:04\n",
      "   ------------------------------ -------- 157.3/204.2 MB 12.5 MB/s eta 0:00:04\n",
      "   ------------------------------ -------- 159.6/204.2 MB 12.4 MB/s eta 0:00:04\n",
      "   ------------------------------ -------- 161.7/204.2 MB 12.4 MB/s eta 0:00:04\n",
      "   ------------------------------- ------- 164.1/204.2 MB 12.4 MB/s eta 0:00:04\n",
      "   ------------------------------- ------- 167.2/204.2 MB 12.4 MB/s eta 0:00:03\n",
      "   -------------------------------- ------ 170.4/204.2 MB 12.4 MB/s eta 0:00:03\n",
      "   --------------------------------- ----- 174.3/204.2 MB 12.5 MB/s eta 0:00:03\n",
      "   --------------------------------- ----- 177.5/204.2 MB 12.6 MB/s eta 0:00:03\n",
      "   ---------------------------------- ---- 179.6/204.2 MB 12.5 MB/s eta 0:00:02\n",
      "   ---------------------------------- ---- 181.4/204.2 MB 12.5 MB/s eta 0:00:02\n",
      "   ----------------------------------- --- 183.8/204.2 MB 12.4 MB/s eta 0:00:02\n",
      "   ----------------------------------- --- 185.9/204.2 MB 12.4 MB/s eta 0:00:02\n",
      "   ----------------------------------- --- 188.2/204.2 MB 12.4 MB/s eta 0:00:02\n",
      "   ------------------------------------ -- 190.6/204.2 MB 12.4 MB/s eta 0:00:02\n",
      "   ------------------------------------ -- 193.5/204.2 MB 12.4 MB/s eta 0:00:01\n",
      "   ------------------------------------- - 196.1/204.2 MB 12.4 MB/s eta 0:00:01\n",
      "   ------------------------------------- - 197.7/204.2 MB 12.3 MB/s eta 0:00:01\n",
      "   --------------------------------------  199.5/204.2 MB 12.3 MB/s eta 0:00:01\n",
      "   --------------------------------------  202.1/204.2 MB 12.3 MB/s eta 0:00:01\n",
      "   --------------------------------------  203.9/204.2 MB 12.3 MB/s eta 0:00:01\n",
      "   --------------------------------------  203.9/204.2 MB 12.3 MB/s eta 0:00:01\n",
      "   --------------------------------------  203.9/204.2 MB 12.3 MB/s eta 0:00:01\n",
      "   --------------------------------------  203.9/204.2 MB 12.3 MB/s eta 0:00:01\n",
      "   --------------------------------------- 204.2/204.2 MB 11.6 MB/s eta 0:00:00\n",
      "Downloading sympy-1.13.1-py3-none-any.whl (6.2 MB)\n",
      "   ---------------------------------------- 0.0/6.2 MB ? eta -:--:--\n",
      "   ------------------ --------------------- 2.9/6.2 MB 14.0 MB/s eta 0:00:01\n",
      "   -------------------------------------- - 6.0/6.2 MB 15.4 MB/s eta 0:00:01\n",
      "   ---------------------------------------- 6.2/6.2 MB 13.1 MB/s eta 0:00:00\n",
      "Downloading torchvision-0.21.0-cp311-cp311-win_amd64.whl (1.6 MB)\n",
      "   ---------------------------------------- 0.0/1.6 MB ? eta -:--:--\n",
      "   ---------------------------------------- 1.6/1.6 MB 13.8 MB/s eta 0:00:00\n",
      "Downloading torchaudio-2.6.0-cp311-cp311-win_amd64.whl (2.5 MB)\n",
      "   ---------------------------------------- 0.0/2.5 MB ? eta -:--:--\n",
      "   ---------------------------------------- 2.5/2.5 MB 12.7 MB/s eta 0:00:00\n",
      "Downloading mpmath-1.3.0-py3-none-any.whl (536 kB)\n",
      "   ---------------------------------------- 0.0/536.2 kB ? eta -:--:--\n",
      "   ---------------------------------------- 536.2/536.2 kB 8.6 MB/s eta 0:00:00\n",
      "Installing collected packages: mpmath, sympy, torch, torchvision, torchaudio\n",
      "Successfully installed mpmath-1.3.0 sympy-1.13.1 torch-2.6.0 torchaudio-2.6.0 torchvision-0.21.0\n"
     ]
    }
   ],
   "source": [
    "!pip install torch torchvision torchaudio\n"
   ]
  },
  {
   "cell_type": "code",
   "execution_count": 9,
   "id": "968a26b9-ebc2-40ae-b071-b109ab238887",
   "metadata": {},
   "outputs": [
    {
     "data": {
      "image/png": "[encoded data removed]",
      "text/plain": [
       "<Figure size 640x480 with 1 Axes>"
      ]
     },
     "metadata": {},
     "output_type": "display_data"
    }
   ],
   "source": [
    "import pandas as pd\n",
    "import matplotlib.pyplot as plt\n",
    "\n",
    "df = pd.read_csv(\"training_data_usage_results.csv\")\n",
    "\n",
    "plt.hist(df['Max Used Similarity'], bins=50, alpha=0.5, label=\"Used Similarity\")\n",
    "plt.hist(df['Max Not Used Similarity'], bins=50, alpha=0.5, label=\"Not Used Similarity\")\n",
    "plt.xlabel(\"Cosine Similarity\")\n",
    "plt.ylabel(\"Frequency\")\n",
    "plt.legend()\n",
    "plt.show()\n"
   ]
  },
  {
   "cell_type": "code",
   "execution_count": 10,
   "id": "7e84d3bf-f07a-4326-96d9-40b205da1d60",
   "metadata": {},
   "outputs": [
    {
     "data": {
      "image/png": "[encoded data removed]",
      "text/plain": [
       "<Figure size 640x480 with 1 Axes>"
      ]
     },
     "metadata": {},
     "output_type": "display_data"
    }
   ],
   "source": [
    "from sklearn.metrics import roc_curve\n",
    "\n",
    "y_true = df[\"Used in Training\"]  # Actual labels\n",
    "y_scores = df[\"Max Used Similarity\"]  # Similarity scores\n",
    "\n",
    "fpr, tpr, thresholds = roc_curve(y_true, y_scores)\n",
    "\n",
    "plt.plot(fpr, tpr, label=\"ROC Curve\")\n",
    "plt.xlabel(\"False Positive Rate\")\n",
    "plt.ylabel(\"True Positive Rate\")\n",
    "plt.legend()\n",
    "plt.show()\n"
   ]
  },
  {
   "cell_type": "code",
   "execution_count": 11,
   "id": "18e0c8ac-0aca-4bc1-9367-7964c90f5a98",
   "metadata": {},
   "outputs": [
    {
     "name": "stdout",
     "output_type": "stream",
     "text": [
      "Total Images Analyzed: 5000\n",
      "Percentage Marked as Used: 49.38%\n",
      "Average Used Similarity: 0.9222\n",
      "Average Not Used Similarity: 0.9226\n"
     ]
    }
   ],
   "source": [
    "print(f\"Total Images Analyzed: {len(df)}\")\n",
    "print(f\"Percentage Marked as Used: {df['Used in Training'].mean() * 100:.2f}%\")\n",
    "print(f\"Average Used Similarity: {df['Max Used Similarity'].mean():.4f}\")\n",
    "print(f\"Average Not Used Similarity: {df['Max Not Used Similarity'].mean():.4f}\")\n"
   ]
  },
  {
   "cell_type": "code",
   "execution_count": 12,
   "id": "bc51c06e-46c3-4391-a7d6-a38a3995cea0",
   "metadata": {},
   "outputs": [
    {
     "name": "stdout",
     "output_type": "stream",
     "text": [
      "Model Accuracy: 0.8288\n"
     ]
    }
   ],
   "source": [
    "from sklearn.linear_model import LogisticRegression\n",
    "\n",
    "X = df[['Max Used Similarity', 'Max Not Used Similarity']]\n",
    "y = df['Used in Training']\n",
    "\n",
    "model = LogisticRegression()\n",
    "model.fit(X, y)\n",
    "print(f\"Model Accuracy: {model.score(X, y):.4f}\")\n"
   ]
  },
  {
   "cell_type": "code",
   "execution_count": 13,
   "id": "eafe2d9e-0a95-4537-b102-7402cfdabcd1",
   "metadata": {},
   "outputs": [
    {
     "name": "stdout",
     "output_type": "stream",
     "text": [
      "C:\\Users\\ram_k\\training_data_usage_results.csv\n"
     ]
    }
   ],
   "source": [
    "import os\n",
    "print(os.path.abspath(\"training_data_usage_results.csv\"))\n"
   ]
  },
  {
   "cell_type": "code",
   "execution_count": 16,
   "id": "10906a9d-aa04-4282-8494-d4800065e62a",
   "metadata": {},
   "outputs": [
    {
     "name": "stdout",
     "output_type": "stream",
     "text": [
      "Precision: 0.8738\n",
      "Recall: 0.7743\n",
      "F1 Score: 0.8211\n"
     ]
    }
   ],
   "source": [
    "from sklearn.model_selection import train_test_split\n",
    "from sklearn.linear_model import LogisticRegression\n",
    "from sklearn.metrics import precision_score, recall_score, f1_score\n",
    "\n",
    "# Define features and target\n",
    "X = df[['Max Used Similarity', 'Max Not Used Similarity']]\n",
    "y = df['Used in Training']\n",
    "\n",
    "# Split into training and testing sets\n",
    "X_train, X_test, y_train, y_test = train_test_split(X, y, test_size=0.2, random_state=42)\n",
    "\n",
    "# Train logistic regression model\n",
    "model = LogisticRegression()\n",
    "model.fit(X_train, y_train)\n",
    "\n",
    "# Predict on test data\n",
    "y_pred = model.predict(X_test)\n",
    "\n",
    "# Evaluate model\n",
    "print(f\"Precision: {precision_score(y_test, y_pred):.4f}\")\n",
    "print(f\"Recall: {recall_score(y_test, y_pred):.4f}\")\n",
    "print(f\"F1 Score: {f1_score(y_test, y_pred):.4f}\")\n"
   ]
  },
  {
   "cell_type": "code",
   "execution_count": 18,
   "id": "d8786c67-f377-45dd-a1ca-d4a9d3185931",
   "metadata": {},
   "outputs": [
    {
     "name": "stdout",
     "output_type": "stream",
     "text": [
      "AUC Score: 0.8349\n"
     ]
    }
   ],
   "source": [
    "from sklearn.metrics import roc_auc_score\n",
    "\n",
    "auc_score = roc_auc_score(y_test, y_pred)\n",
    "print(f\"AUC Score: {auc_score:.4f}\")\n"
   ]
  },
  {
   "cell_type": "code",
   "execution_count": 19,
   "id": "89df8b47-4dd4-4661-b77b-13dfdd3413c6",
   "metadata": {},
   "outputs": [
    {
     "name": "stdout",
     "output_type": "stream",
     "text": [
      "Collecting seaborn"
     ]
    },
    {
     "name": "stderr",
     "output_type": "stream",
     "text": [
      "\n",
      "[notice] A new release of pip is available: 24.3.1 -> 25.0.1\n",
      "[notice] To update, run: C:\\Users\\ram_k\\AppData\\Local\\Microsoft\\WindowsApps\\PythonSoftwareFoundation.Python.3.11_qbz5n2kfra8p0\\python.exe -m pip install --upgrade pip\n"
     ]
    },
    {
     "name": "stdout",
     "output_type": "stream",
     "text": [
      "\n",
      "  Downloading seaborn-0.13.2-py3-none-any.whl.metadata (5.4 kB)\n",
      "Requirement already satisfied: numpy!=1.24.0,>=1.20 in c:\\users\\ram_k\\appdata\\local\\packages\\pythonsoftwarefoundation.python.3.11_qbz5n2kfra8p0\\localcache\\local-packages\\python311\\site-packages (from seaborn) (1.26.4)\n",
      "Requirement already satisfied: pandas>=1.2 in c:\\users\\ram_k\\appdata\\local\\packages\\pythonsoftwarefoundation.python.3.11_qbz5n2kfra8p0\\localcache\\local-packages\\python311\\site-packages (from seaborn) (2.2.2)\n",
      "Requirement already satisfied: matplotlib!=3.6.1,>=3.4 in c:\\users\\ram_k\\appdata\\local\\packages\\pythonsoftwarefoundation.python.3.11_qbz5n2kfra8p0\\localcache\\local-packages\\python311\\site-packages (from seaborn) (3.9.1)\n",
      "Requirement already satisfied: contourpy>=1.0.1 in c:\\users\\ram_k\\appdata\\local\\packages\\pythonsoftwarefoundation.python.3.11_qbz5n2kfra8p0\\localcache\\local-packages\\python311\\site-packages (from matplotlib!=3.6.1,>=3.4->seaborn) (1.2.1)\n",
      "Requirement already satisfied: cycler>=0.10 in c:\\users\\ram_k\\appdata\\local\\packages\\pythonsoftwarefoundation.python.3.11_qbz5n2kfra8p0\\localcache\\local-packages\\python311\\site-packages (from matplotlib!=3.6.1,>=3.4->seaborn) (0.12.1)\n",
      "Requirement already satisfied: fonttools>=4.22.0 in c:\\users\\ram_k\\appdata\\local\\packages\\pythonsoftwarefoundation.python.3.11_qbz5n2kfra8p0\\localcache\\local-packages\\python311\\site-packages (from matplotlib!=3.6.1,>=3.4->seaborn) (4.53.1)\n",
      "Requirement already satisfied: kiwisolver>=1.3.1 in c:\\users\\ram_k\\appdata\\local\\packages\\pythonsoftwarefoundation.python.3.11_qbz5n2kfra8p0\\localcache\\local-packages\\python311\\site-packages (from matplotlib!=3.6.1,>=3.4->seaborn) (1.4.5)\n",
      "Requirement already satisfied: packaging>=20.0 in c:\\users\\ram_k\\appdata\\local\\packages\\pythonsoftwarefoundation.python.3.11_qbz5n2kfra8p0\\localcache\\local-packages\\python311\\site-packages (from matplotlib!=3.6.1,>=3.4->seaborn) (24.1)\n",
      "Requirement already satisfied: pillow>=8 in c:\\users\\ram_k\\appdata\\local\\packages\\pythonsoftwarefoundation.python.3.11_qbz5n2kfra8p0\\localcache\\local-packages\\python311\\site-packages (from matplotlib!=3.6.1,>=3.4->seaborn) (10.4.0)\n",
      "Requirement already satisfied: pyparsing>=2.3.1 in c:\\users\\ram_k\\appdata\\local\\packages\\pythonsoftwarefoundation.python.3.11_qbz5n2kfra8p0\\localcache\\local-packages\\python311\\site-packages (from matplotlib!=3.6.1,>=3.4->seaborn) (3.1.2)\n",
      "Requirement already satisfied: python-dateutil>=2.7 in c:\\users\\ram_k\\appdata\\local\\packages\\pythonsoftwarefoundation.python.3.11_qbz5n2kfra8p0\\localcache\\local-packages\\python311\\site-packages (from matplotlib!=3.6.1,>=3.4->seaborn) (2.9.0.post0)\n",
      "Requirement already satisfied: pytz>=2020.1 in c:\\users\\ram_k\\appdata\\local\\packages\\pythonsoftwarefoundation.python.3.11_qbz5n2kfra8p0\\localcache\\local-packages\\python311\\site-packages (from pandas>=1.2->seaborn) (2024.1)\n",
      "Requirement already satisfied: tzdata>=2022.7 in c:\\users\\ram_k\\appdata\\local\\packages\\pythonsoftwarefoundation.python.3.11_qbz5n2kfra8p0\\localcache\\local-packages\\python311\\site-packages (from pandas>=1.2->seaborn) (2024.1)\n",
      "Requirement already satisfied: six>=1.5 in c:\\users\\ram_k\\appdata\\local\\packages\\pythonsoftwarefoundation.python.3.11_qbz5n2kfra8p0\\localcache\\local-packages\\python311\\site-packages (from python-dateutil>=2.7->matplotlib!=3.6.1,>=3.4->seaborn) (1.16.0)\n",
      "Downloading seaborn-0.13.2-py3-none-any.whl (294 kB)\n",
      "Installing collected packages: seaborn\n",
      "Successfully installed seaborn-0.13.2\n"
     ]
    }
   ],
   "source": [
    "!pip install seaborn\n"
   ]
  },
  {
   "cell_type": "code",
   "execution_count": 20,
   "id": "d1e05439-2994-4720-94aa-55a2008794ce",
   "metadata": {},
   "outputs": [
    {
     "data": {
      "image/png": "[encoded data removed]",
      "text/plain": [
       "<Figure size 640x480 with 2 Axes>"
      ]
     },
     "metadata": {},
     "output_type": "display_data"
    }
   ],
   "source": [
    "from sklearn.metrics import confusion_matrix\n",
    "import seaborn as sns\n",
    "import matplotlib.pyplot as plt\n",
    "\n",
    "cm = confusion_matrix(y_test, y_pred)\n",
    "sns.heatmap(cm, annot=True, fmt=\"d\", cmap=\"Blues\")\n",
    "plt.xlabel(\"Predicted\")\n",
    "plt.ylabel(\"Actual\")\n",
    "plt.title(\"Confusion Matrix\")\n",
    "plt.show()\n"
   ]
  },
  {
   "cell_type": "code",
   "execution_count": null,
   "id": "80ef8af0-da14-4fc7-97d8-5a51f82594ca",
   "metadata": {},
   "outputs": [],
   "source": []
  }
 ],
 "metadata": {
  "kernelspec": {
   "display_name": "Python (tensorflow_env)",
   "language": "python",
   "name": "tensorflow_env"
  },
  "language_info": {
   "codemirror_mode": {
    "name": "ipython",
    "version": 3
   },
   "file_extension": ".py",
   "mimetype": "text/x-python",
   "name": "python",
   "nbconvert_exporter": "python",
   "pygments_lexer": "ipython3",
   "version": "3.11.9"
  }
 },
 "nbformat": 4,
 "nbformat_minor": 5
}
